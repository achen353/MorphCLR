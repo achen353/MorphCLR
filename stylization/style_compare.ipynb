{
 "cells": [
  {
   "cell_type": "code",
   "execution_count": 91,
   "metadata": {},
   "outputs": [],
   "source": [
    "import torch\n",
    "from torch import cuda\n",
    "import sys\n",
    "import numpy as np\n",
    "import os\n",
    "import matplotlib.pyplot as plt\n",
    "import torchvision\n",
    "from PIL import Image\n",
    "# device = 'cuda' if cuda.is_available() else 'cpu'\n",
    "device = 'cpu'"
   ]
  },
  {
   "cell_type": "code",
   "execution_count": 92,
   "metadata": {},
   "outputs": [
    {
     "data": {
      "text/plain": [
       "'cpu'"
      ]
     },
     "execution_count": 92,
     "metadata": {},
     "output_type": "execute_result"
    }
   ],
   "source": [
    "device"
   ]
  },
  {
   "cell_type": "code",
   "execution_count": 103,
   "metadata": {},
   "outputs": [],
   "source": [
    "original = sorted(os.listdir(\"img/10\"))\n",
    "stylized = sorted(os.listdir(\"stylized_output/10\"))"
   ]
  },
  {
   "cell_type": "code",
   "execution_count": 104,
   "metadata": {},
   "outputs": [],
   "source": [
    "original_paths = [\"img/10/\" + x for x in original]\n",
    "stylized_paths = ['stylized_output/10/' + x for x in stylized]"
   ]
  },
  {
   "cell_type": "code",
   "execution_count": 105,
   "metadata": {},
   "outputs": [],
   "source": [
    "convert_tensor = torchvision.transforms.ToTensor()"
   ]
  },
  {
   "cell_type": "code",
   "execution_count": 106,
   "metadata": {},
   "outputs": [],
   "source": [
    "original_tensors = torch.stack([convert_tensor(Image.open(x).convert('RGB')) for x in original_paths])\n",
    "stylized_tensors = torch.stack([convert_tensor(Image.open(x).convert('RGB')) for x in stylized_paths])"
   ]
  },
  {
   "cell_type": "code",
   "execution_count": 107,
   "metadata": {},
   "outputs": [
    {
     "name": "stdout",
     "output_type": "stream",
     "text": [
      "tensor([[0.4275, 0.4314, 0.4235, 0.4588, 0.4353, 0.4275, 0.4431, 0.4314, 0.4471,\n",
      "         0.4314, 0.4235, 0.4235, 0.4314, 0.4353, 0.4314, 0.4314, 0.4353, 0.4275,\n",
      "         0.4392, 0.4314, 0.4353, 0.4471, 0.4314, 0.4353, 0.4353, 0.4392, 0.4471,\n",
      "         0.4588, 0.3608, 0.4471, 0.4157, 0.4235, 0.4627, 0.4706, 0.2588, 0.0941,\n",
      "         0.2392, 0.2392, 0.2157, 0.4314, 0.4431, 0.4157, 0.4157, 0.2941, 0.4353,\n",
      "         0.4196, 0.4510, 0.4039, 0.4392, 0.4314, 0.4627, 0.2667, 0.0510, 0.2471,\n",
      "         0.4588, 0.4431, 0.4588, 0.4392, 0.3373, 0.4471, 0.4353, 0.4392, 0.4353,\n",
      "         0.4353, 0.4314, 0.4314, 0.4275, 0.4314, 0.4314, 0.4392, 0.3137, 0.2235,\n",
      "         0.4235, 0.4353, 0.3176, 0.2824, 0.4510, 0.6745, 0.3608, 0.4392, 0.3451,\n",
      "         0.2902, 0.3176, 0.2627, 0.4706, 0.4275, 0.4392, 0.4196, 0.4353, 0.4471,\n",
      "         0.4196, 0.2627, 0.2118, 0.0863, 0.2275, 0.2549],\n",
      "        [0.6353, 0.6353, 0.6431, 0.6510, 0.6314, 0.6392, 0.6431, 0.6353, 0.6510,\n",
      "         0.6431, 0.6392, 0.6431, 0.6392, 0.6431, 0.6392, 0.6392, 0.6431, 0.6392,\n",
      "         0.6392, 0.6431, 0.6431, 0.6392, 0.6392, 0.6353, 0.6431, 0.6392, 0.6510,\n",
      "         0.5059, 0.5333, 0.6510, 0.6431, 0.6471, 0.6431, 0.4549, 0.1843, 0.0784,\n",
      "         0.1569, 0.2549, 0.2588, 0.6392, 0.6588, 0.6510, 0.6078, 0.4549, 0.6588,\n",
      "         0.6314, 0.4431, 0.5882, 0.6471, 0.6392, 0.6706, 0.3137, 0.0353, 0.3569,\n",
      "         0.6667, 0.6471, 0.6471, 0.5294, 0.4863, 0.6549, 0.6314, 0.6431, 0.6471,\n",
      "         0.6392, 0.6392, 0.6392, 0.6471, 0.6431, 0.6471, 0.6157, 0.3451, 0.2471,\n",
      "         0.6118, 0.6510, 0.4588, 0.4235, 0.6510, 0.6667, 0.3843, 0.6157, 0.4196,\n",
      "         0.4078, 0.4784, 0.3373, 0.6706, 0.6471, 0.6431, 0.6510, 0.6431, 0.6118,\n",
      "         0.4902, 0.2863, 0.2941, 0.1020, 0.2706, 0.2902],\n",
      "        [0.9020, 0.9020, 0.9059, 0.8863, 0.8667, 0.8902, 0.8824, 0.9059, 0.9098,\n",
      "         0.9020, 0.9059, 0.9059, 0.9059, 0.9059, 0.9098, 0.9098, 0.9020, 0.8980,\n",
      "         0.9059, 0.9059, 0.9137, 0.9020, 0.8980, 0.9020, 0.9059, 0.9020, 0.9098,\n",
      "         0.5529, 0.7686, 0.9137, 0.8980, 0.9137, 0.8980, 0.5373, 0.1647, 0.0824,\n",
      "         0.1529, 0.3412, 0.3451, 0.8824, 0.9373, 0.9176, 0.8314, 0.6392, 0.9333,\n",
      "         0.8784, 0.4627, 0.8157, 0.9176, 0.9137, 0.9373, 0.3922, 0.0157, 0.5176,\n",
      "         0.9294, 0.9020, 0.8863, 0.6157, 0.6588, 0.9255, 0.9098, 0.9059, 0.9059,\n",
      "         0.9059, 0.9098, 0.9059, 0.8980, 0.9137, 0.9098, 0.8706, 0.4431, 0.2863,\n",
      "         0.8745, 0.9255, 0.5922, 0.6235, 0.9216, 0.7412, 0.4314, 0.8196, 0.5098,\n",
      "         0.5804, 0.6588, 0.4627, 0.9294, 0.9098, 0.9020, 0.9059, 0.9098, 0.8627,\n",
      "         0.5843, 0.3020, 0.4196, 0.1059, 0.3961, 0.3529]])\n"
     ]
    }
   ],
   "source": [
    "print(original_tensors[0][:, :, 0])"
   ]
  },
  {
   "cell_type": "code",
   "execution_count": 108,
   "metadata": {},
   "outputs": [
    {
     "data": {
      "text/plain": [
       "torch.Size([800, 3, 96, 96])"
      ]
     },
     "execution_count": 108,
     "metadata": {},
     "output_type": "execute_result"
    }
   ],
   "source": [
    "original_tensors.shape"
   ]
  },
  {
   "cell_type": "code",
   "execution_count": 109,
   "metadata": {},
   "outputs": [
    {
     "data": {
      "text/plain": [
       "<All keys matched successfully>"
      ]
     },
     "execution_count": 109,
     "metadata": {},
     "output_type": "execute_result"
    }
   ],
   "source": [
    "model = torchvision.models.resnet18(pretrained=False, num_classes=10).to(device)\n",
    "checkpoint = torch.load(\"model.pt\")\n",
    "model.load_state_dict(checkpoint['model_state_dict'])"
   ]
  },
  {
   "cell_type": "code",
   "execution_count": 110,
   "metadata": {},
   "outputs": [],
   "source": [
    "original_preds = model(original_tensors.to(device))\n",
    "stylized_preds = model(stylized_tensors.to(device))"
   ]
  },
  {
   "cell_type": "code",
   "execution_count": 111,
   "metadata": {},
   "outputs": [
    {
     "data": {
      "text/plain": [
       "tensor(0.0850)"
      ]
     },
     "execution_count": 111,
     "metadata": {},
     "output_type": "execute_result"
    }
   ],
   "source": [
    "torch.sum(torch.argmax(original_preds, dim = 1) == 9)/800"
   ]
  },
  {
   "cell_type": "code",
   "execution_count": 102,
   "metadata": {},
   "outputs": [
    {
     "data": {
      "text/plain": [
       "tensor(0.1600)"
      ]
     },
     "execution_count": 102,
     "metadata": {},
     "output_type": "execute_result"
    }
   ],
   "source": [
    "torch.sum(torch.argmax(stylized_preds, dim = 1) == 9)/800"
   ]
  }
 ],
 "metadata": {
  "kernelspec": {
   "display_name": "Python 3.7.6 ('simclr')",
   "language": "python",
   "name": "python3"
  },
  "language_info": {
   "codemirror_mode": {
    "name": "ipython",
    "version": 3
   },
   "file_extension": ".py",
   "mimetype": "text/x-python",
   "name": "python",
   "nbconvert_exporter": "python",
   "pygments_lexer": "ipython3",
   "version": "3.7.13"
  },
  "orig_nbformat": 4,
  "vscode": {
   "interpreter": {
    "hash": "053be8dae144d99fa8b111aed4f3f08461542d812b2ec4531489ab90c92cca22"
   }
  }
 },
 "nbformat": 4,
 "nbformat_minor": 2
}
