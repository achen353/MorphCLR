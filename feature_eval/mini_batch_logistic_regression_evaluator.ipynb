{
 "cells": [
  {
   "cell_type": "markdown",
   "metadata": {
    "colab_type": "text",
    "id": "view-in-github"
   },
   "source": [
    "<a href=\"https://colab.research.google.com/github/sthalles/SimCLR/blob/simclr-refactor/feature_eval/mini_batch_logistic_regression_evaluator.ipynb\" target=\"_parent\"><img src=\"https://colab.research.google.com/assets/colab-badge.svg\" alt=\"Open In Colab\"/></a>"
   ]
  },
  {
   "cell_type": "markdown",
   "metadata": {},
   "source": [
    "# Setup"
   ]
  },
  {
   "cell_type": "markdown",
   "metadata": {},
   "source": [
    "## Basic Imports"
   ]
  },
  {
   "cell_type": "code",
   "execution_count": 1,
   "metadata": {
    "id": "YUemQib7ZE4D"
   },
   "outputs": [
    {
     "name": "stderr",
     "output_type": "stream",
     "text": [
      "/nethome/achen353/anaconda3/envs/morphclr/lib/python3.7/site-packages/tqdm/auto.py:22: TqdmWarning: IProgress not found. Please update jupyter and ipywidgets. See https://ipywidgets.readthedocs.io/en/stable/user_install.html\n",
      "  from .autonotebook import tqdm as notebook_tqdm\n"
     ]
    }
   ],
   "source": [
    "import torch\n",
    "import sys\n",
    "import numpy as np\n",
    "import os\n",
    "import yaml\n",
    "import matplotlib.pyplot as plt\n",
    "import torchvision"
   ]
  },
  {
   "cell_type": "markdown",
   "metadata": {},
   "source": [
    "## Download Datasets"
   ]
  },
  {
   "cell_type": "code",
   "execution_count": null,
   "metadata": {
    "colab": {
     "base_uri": "https://localhost:8080/"
    },
    "id": "WSgRE1CcLqdS",
    "outputId": "48a2ae15-f672-495b-8d43-9a23b85fa3b8"
   },
   "outputs": [],
   "source": [
    "! pip install gdown"
   ]
  },
  {
   "cell_type": "code",
   "execution_count": 2,
   "metadata": {
    "id": "NOIJEui1ZziV"
   },
   "outputs": [],
   "source": [
    "def get_file_id_by_model(folder_name):\n",
    "    file_id = {\n",
    "        \"resnet18_100-epochs_stl10\": \"14_nH2FkyKbt61cieQDiSbBVNP8-gtwgF\",\n",
    "        \"resnet18_100-epochs_cifar10\": \"1lc2aoVtrAetGn0PnTkOyFzPCIucOJq7C\",\n",
    "        \"resnet50_50-epochs_stl10\": \"1ByTKAUsdm_X7tLcii6oAEl5qFRqRMZSu\",\n",
    "    }\n",
    "    return file_id.get(folder_name, \"Model not found.\")"
   ]
  },
  {
   "cell_type": "code",
   "execution_count": 3,
   "metadata": {
    "colab": {
     "base_uri": "https://localhost:8080/"
    },
    "id": "G7YMxsvEZMrX",
    "outputId": "59475430-69d2-45a2-b61b-ae755d5d6e88"
   },
   "outputs": [
    {
     "name": "stdout",
     "output_type": "stream",
     "text": [
      "Folder Name:  resnet50_50-epochs_stl10\n",
      "File ID:  1ByTKAUsdm_X7tLcii6oAEl5qFRqRMZSu\n"
     ]
    }
   ],
   "source": [
    "folder_name = \"resnet50_50-epochs_stl10\"\n",
    "file_id = get_file_id_by_model(folder_name)\n",
    "print(\"Folder Name: \", folder_name)\n",
    "print(\"File ID: \", file_id)"
   ]
  },
  {
   "cell_type": "code",
   "execution_count": 4,
   "metadata": {
    "colab": {
     "base_uri": "https://localhost:8080/"
    },
    "id": "PWZ8fet_YoJm",
    "outputId": "fbaeb858-221b-4d1b-dd90-001a6e713b75"
   },
   "outputs": [
    {
     "name": "stderr",
     "output_type": "stream",
     "text": [
      "Downloading...\n",
      "From: https://drive.google.com/uc?id=1ByTKAUsdm_X7tLcii6oAEl5qFRqRMZSu\n",
      "To: /home/achen353/MorphCLR/feature_eval/simclr_pretrained_weights/resnet50_50-epochs_stl10.zip\n",
      "100%|██████████| 277M/277M [00:00<00:00, 413MB/s] \n"
     ]
    },
    {
     "name": "stdout",
     "output_type": "stream",
     "text": [
      "Archive:  ./simclr_pretrained_weights/resnet50_50-epochs_stl10.zip\n",
      "checkpoint_0040.pth.tar\n",
      "config.yml\n",
      "events.out.tfevents.1610927742.4cb2c837708d.2694093.0\n",
      "lr_checkpoint_0100.pth.tar\n",
      "training.log\n"
     ]
    },
    {
     "name": "stderr",
     "output_type": "stream",
     "text": [
      "replace ./simclr_pretrained_weights/resnet50_50-epochs_stl10/checkpoint_0040.pth.tar? [y]es, [n]o, [A]ll, [N]one, [r]ename:  NULL\n",
      "(EOF or read error, treating as \"[N]one\" ...)\n"
     ]
    },
    {
     "data": {
      "text/plain": [
       "0"
      ]
     },
     "execution_count": 4,
     "metadata": {},
     "output_type": "execute_result"
    }
   ],
   "source": [
    "# download and extract model files\n",
    "pretrained_weights_dir = \"./simclr_pretrained_weights\"\n",
    "gdrive_url = \"https://drive.google.com/uc?id={}\".format(file_id)\n",
    "folder_full_name = os.path.join(pretrained_weights_dir, folder_name)\n",
    "\n",
    "if not os.path.exists(pretrained_weights_dir):\n",
    "    os.makedirs(pretrained_weights_dir)\n",
    "\n",
    "os.system(\"cd {} && gdown {}\".format(pretrained_weights_dir, gdrive_url))\n",
    "os.system(\"unzip {} -d {}\".format(folder_full_name, folder_full_name))\n",
    "os.system(\"ls {}\".format(folder_full_name))"
   ]
  },
  {
   "cell_type": "markdown",
   "metadata": {},
   "source": [
    "## Train the Classification Layer"
   ]
  },
  {
   "cell_type": "code",
   "execution_count": 5,
   "metadata": {
    "id": "3_nypQVEv-hn"
   },
   "outputs": [],
   "source": [
    "from torch.utils.data import DataLoader\n",
    "import torchvision.transforms as transforms\n",
    "from torchvision import datasets"
   ]
  },
  {
   "cell_type": "code",
   "execution_count": 6,
   "metadata": {
    "colab": {
     "base_uri": "https://localhost:8080/"
    },
    "id": "lDfbL3w_Z0Od",
    "outputId": "7532966e-1c4a-4641-c928-4cda14c53389"
   },
   "outputs": [
    {
     "name": "stdout",
     "output_type": "stream",
     "text": [
      "Using device: cuda\n"
     ]
    }
   ],
   "source": [
    "device = \"cuda\" if torch.cuda.is_available() else \"cpu\"\n",
    "print(\"Using device:\", device)"
   ]
  },
  {
   "cell_type": "code",
   "execution_count": 7,
   "metadata": {
    "id": "BfIPl0G6_RrT"
   },
   "outputs": [],
   "source": [
    "def get_stl10_data_loaders(download, shuffle=False, batch_size=256):\n",
    "    train_dataset = datasets.STL10(\n",
    "        \"./data\", split=\"train\", download=download, transform=transforms.ToTensor()\n",
    "    )\n",
    "\n",
    "    train_loader = DataLoader(\n",
    "        train_dataset,\n",
    "        batch_size=batch_size,\n",
    "        num_workers=0,\n",
    "        drop_last=False,\n",
    "        shuffle=shuffle,\n",
    "    )\n",
    "\n",
    "    test_dataset = datasets.STL10(\n",
    "        \"./data\", split=\"test\", download=download, transform=transforms.ToTensor()\n",
    "    )\n",
    "\n",
    "    test_loader = DataLoader(\n",
    "        test_dataset,\n",
    "        batch_size=2 * batch_size,\n",
    "        num_workers=10,\n",
    "        drop_last=False,\n",
    "        shuffle=shuffle,\n",
    "    )\n",
    "    return train_loader, test_loader\n",
    "\n",
    "\n",
    "def get_cifar10_data_loaders(download, shuffle=False, batch_size=256):\n",
    "    train_dataset = datasets.CIFAR10(\n",
    "        \"./data\", train=True, download=download, transform=transforms.ToTensor()\n",
    "    )\n",
    "\n",
    "    train_loader = DataLoader(\n",
    "        train_dataset,\n",
    "        batch_size=batch_size,\n",
    "        num_workers=0,\n",
    "        drop_last=False,\n",
    "        shuffle=shuffle,\n",
    "    )\n",
    "\n",
    "    test_dataset = datasets.CIFAR10(\n",
    "        \"./data\", train=False, download=download, transform=transforms.ToTensor()\n",
    "    )\n",
    "\n",
    "    test_loader = DataLoader(\n",
    "        test_dataset,\n",
    "        batch_size=2 * batch_size,\n",
    "        num_workers=10,\n",
    "        drop_last=False,\n",
    "        shuffle=shuffle,\n",
    "    )\n",
    "    return train_loader, test_loader"
   ]
  },
  {
   "cell_type": "code",
   "execution_count": 8,
   "metadata": {
    "id": "6N8lYkbmDTaK"
   },
   "outputs": [],
   "source": [
    "with open(os.path.join(folder_full_name, \"./config.yml\")) as file:\n",
    "    config = yaml.load(file, Loader=yaml.UnsafeLoader)"
   ]
  },
  {
   "cell_type": "code",
   "execution_count": 9,
   "metadata": {
    "id": "a18lPD-tIle6"
   },
   "outputs": [
    {
     "name": "stderr",
     "output_type": "stream",
     "text": [
      "/nethome/achen353/anaconda3/envs/morphclr/lib/python3.7/site-packages/torchvision/models/_utils.py:209: UserWarning: The parameter 'pretrained' is deprecated since 0.13 and will be removed in 0.15, please use 'weights' instead.\n",
      "  f\"The parameter '{pretrained_param}' is deprecated since 0.13 and will be removed in 0.15, \"\n",
      "/nethome/achen353/anaconda3/envs/morphclr/lib/python3.7/site-packages/torchvision/models/_utils.py:223: UserWarning: Arguments other than a weight enum or `None` for 'weights' are deprecated since 0.13 and will be removed in 0.15. The current behavior is equivalent to passing `weights=None`.\n",
      "  warnings.warn(msg)\n"
     ]
    }
   ],
   "source": [
    "if config.arch == \"resnet18\":\n",
    "    model = torchvision.models.resnet18(pretrained=False, num_classes=10).to(device)\n",
    "elif config.arch == \"resnet50\":\n",
    "    model = torchvision.models.resnet50(pretrained=False, num_classes=10).to(device)"
   ]
  },
  {
   "cell_type": "code",
   "execution_count": 10,
   "metadata": {
    "id": "4AIfgq41GuTT"
   },
   "outputs": [],
   "source": [
    "checkpoint = torch.load(\n",
    "    os.path.join(folder_full_name, \"checkpoint_0040.pth.tar\"), map_location=device\n",
    ")\n",
    "state_dict = checkpoint[\"state_dict\"]\n",
    "\n",
    "for k in list(state_dict.keys()):\n",
    "\n",
    "    if k.startswith(\"backbone.\"):\n",
    "        if k.startswith(\"backbone\") and not k.startswith(\"backbone.fc\"):\n",
    "            # remove prefix\n",
    "            state_dict[k[len(\"backbone.\") :]] = state_dict[k]\n",
    "    del state_dict[k]"
   ]
  },
  {
   "cell_type": "code",
   "execution_count": 11,
   "metadata": {
    "id": "VVjA83PPJYWl"
   },
   "outputs": [],
   "source": [
    "log = model.load_state_dict(state_dict, strict=False)\n",
    "assert log.missing_keys == [\"fc.weight\", \"fc.bias\"]"
   ]
  },
  {
   "cell_type": "code",
   "execution_count": 12,
   "metadata": {
    "colab": {
     "base_uri": "https://localhost:8080/",
     "height": 117,
     "referenced_widgets": [
      "149b9ce8fb68473a837a77431c12281a",
      "88cd3db2831e4c13a4a634709700d6b2",
      "a88c31d74f5c40a2b24bcff5a35d216c",
      "60c6150177694717a622936b830427b5",
      "dba019efadee4fdc8c799f309b9a7e70",
      "5901c2829a554c8ebbd5926610088041",
      "957362a11d174407979cf17012bf9208",
      "a4f82234388e4701a02a9f68a177193a"
     ]
    },
    "id": "_GC0a14uWRr6",
    "outputId": "4c2558db-921c-425e-f947-6cc746d8c749"
   },
   "outputs": [
    {
     "name": "stdout",
     "output_type": "stream",
     "text": [
      "Files already downloaded and verified\n",
      "Files already downloaded and verified\n",
      "Dataset: stl10\n"
     ]
    }
   ],
   "source": [
    "if config.dataset_name == \"cifar10\":\n",
    "    train_loader, test_loader = get_cifar10_data_loaders(download=True)\n",
    "elif config.dataset_name == \"stl10\":\n",
    "    train_loader, test_loader = get_stl10_data_loaders(download=True)\n",
    "print(\"Dataset:\", config.dataset_name)"
   ]
  },
  {
   "cell_type": "code",
   "execution_count": 13,
   "metadata": {
    "id": "pYT_KsM0Mnnr"
   },
   "outputs": [],
   "source": [
    "# freeze all layers but the last fc\n",
    "for name, param in model.named_parameters():\n",
    "    if name not in [\"fc.weight\", \"fc.bias\"]:\n",
    "        param.requires_grad = False\n",
    "\n",
    "parameters = list(filter(lambda p: p.requires_grad, model.parameters()))\n",
    "assert len(parameters) == 2  # fc.weight, fc.bias"
   ]
  },
  {
   "cell_type": "code",
   "execution_count": 14,
   "metadata": {
    "id": "aPVh1S_eMRDU"
   },
   "outputs": [],
   "source": [
    "optimizer = torch.optim.Adam(model.parameters(), lr=3e-4, weight_decay=0.0008)\n",
    "criterion = torch.nn.CrossEntropyLoss().to(device)"
   ]
  },
  {
   "cell_type": "code",
   "execution_count": 15,
   "metadata": {
    "id": "edr6RhP2PdVq"
   },
   "outputs": [],
   "source": [
    "def accuracy(output, target, topk=(1,)):\n",
    "    \"\"\"Computes the accuracy over the k top predictions for the specified values of k\"\"\"\n",
    "    with torch.no_grad():\n",
    "        maxk = max(topk)\n",
    "        batch_size = target.size(0)\n",
    "\n",
    "        _, pred = output.topk(maxk, 1, True, True)\n",
    "        pred = pred.t()\n",
    "\n",
    "        correct = pred.eq(target.view(1, -1).expand_as(pred))\n",
    "\n",
    "        res = []\n",
    "        for k in topk:\n",
    "            correct_k = correct[:k].reshape(-1).float().sum(0, keepdim=True)\n",
    "            res.append(correct_k)\n",
    "        return res"
   ]
  },
  {
   "cell_type": "code",
   "execution_count": 16,
   "metadata": {
    "colab": {
     "base_uri": "https://localhost:8080/"
    },
    "id": "qOder0dAMI7X",
    "outputId": "5f723b91-5a5e-43eb-ca01-a9b5ae2f1346"
   },
   "outputs": [
    {
     "name": "stdout",
     "output_type": "stream",
     "text": [
      "Epoch 0\tTop1 Train accuracy 0.34939998388290405\tTop1 Test accuracy: 0.5040000081062317\tTop5 test acc: 0.9450000524520874\n",
      "Epoch 1\tTop1 Train accuracy 0.5375999808311462\tTop1 Test accuracy: 0.5534999966621399\tTop5 test acc: 0.9563750624656677\n",
      "Epoch 2\tTop1 Train accuracy 0.5669999718666077\tTop1 Test accuracy: 0.5712500214576721\tTop5 test acc: 0.9618750214576721\n",
      "Epoch 3\tTop1 Train accuracy 0.5821999907493591\tTop1 Test accuracy: 0.580625057220459\tTop5 test acc: 0.9637500643730164\n",
      "Epoch 4\tTop1 Train accuracy 0.593999981880188\tTop1 Test accuracy: 0.5842500329017639\tTop5 test acc: 0.9652500748634338\n",
      "Epoch 5\tTop1 Train accuracy 0.5981999635696411\tTop1 Test accuracy: 0.5868750214576721\tTop5 test acc: 0.9655000567436218\n",
      "Epoch 6\tTop1 Train accuracy 0.6007999777793884\tTop1 Test accuracy: 0.5916250348091125\tTop5 test acc: 0.9670000672340393\n",
      "Epoch 7\tTop1 Train accuracy 0.6039999723434448\tTop1 Test accuracy: 0.5957500338554382\tTop5 test acc: 0.968000054359436\n",
      "Epoch 8\tTop1 Train accuracy 0.6093999743461609\tTop1 Test accuracy: 0.6001250147819519\tTop5 test acc: 0.9687500596046448\n",
      "Epoch 9\tTop1 Train accuracy 0.613599956035614\tTop1 Test accuracy: 0.6027500033378601\tTop5 test acc: 0.9698750376701355\n",
      "Epoch 10\tTop1 Train accuracy 0.6182000041007996\tTop1 Test accuracy: 0.6062500476837158\tTop5 test acc: 0.9701250195503235\n",
      "Epoch 11\tTop1 Train accuracy 0.6222000122070312\tTop1 Test accuracy: 0.6096250414848328\tTop5 test acc: 0.9706250429153442\n",
      "Epoch 12\tTop1 Train accuracy 0.6241999864578247\tTop1 Test accuracy: 0.612125039100647\tTop5 test acc: 0.971375048160553\n",
      "Epoch 13\tTop1 Train accuracy 0.6254000067710876\tTop1 Test accuracy: 0.6155000329017639\tTop5 test acc: 0.971375048160553\n",
      "Epoch 14\tTop1 Train accuracy 0.628600001335144\tTop1 Test accuracy: 0.6171250343322754\tTop5 test acc: 0.9718750715255737\n",
      "Epoch 15\tTop1 Train accuracy 0.6297999620437622\tTop1 Test accuracy: 0.6182500123977661\tTop5 test acc: 0.9720000624656677\n",
      "Epoch 16\tTop1 Train accuracy 0.6317999958992004\tTop1 Test accuracy: 0.6201250553131104\tTop5 test acc: 0.9722500443458557\n",
      "Epoch 17\tTop1 Train accuracy 0.6349999904632568\tTop1 Test accuracy: 0.6220000386238098\tTop5 test acc: 0.9721250534057617\n",
      "Epoch 18\tTop1 Train accuracy 0.6369999647140503\tTop1 Test accuracy: 0.6235000491142273\tTop5 test acc: 0.9728750586509705\n",
      "Epoch 19\tTop1 Train accuracy 0.6407999992370605\tTop1 Test accuracy: 0.6256250143051147\tTop5 test acc: 0.9730000495910645\n",
      "Epoch 20\tTop1 Train accuracy 0.6421999931335449\tTop1 Test accuracy: 0.627500057220459\tTop5 test acc: 0.9730000495910645\n",
      "Epoch 21\tTop1 Train accuracy 0.644599974155426\tTop1 Test accuracy: 0.6290000081062317\tTop5 test acc: 0.9735000729560852\n",
      "Epoch 22\tTop1 Train accuracy 0.6471999883651733\tTop1 Test accuracy: 0.6301250457763672\tTop5 test acc: 0.9733750224113464\n",
      "Epoch 23\tTop1 Train accuracy 0.6485999822616577\tTop1 Test accuracy: 0.6313750147819519\tTop5 test acc: 0.9736250638961792\n",
      "Epoch 24\tTop1 Train accuracy 0.6503999829292297\tTop1 Test accuracy: 0.6320000290870667\tTop5 test acc: 0.9741250276565552\n",
      "Epoch 25\tTop1 Train accuracy 0.6525999903678894\tTop1 Test accuracy: 0.6326250433921814\tTop5 test acc: 0.9746250510215759\n",
      "Epoch 26\tTop1 Train accuracy 0.6535999774932861\tTop1 Test accuracy: 0.6338750123977661\tTop5 test acc: 0.9745000600814819\n",
      "Epoch 27\tTop1 Train accuracy 0.6549999713897705\tTop1 Test accuracy: 0.6353750228881836\tTop5 test acc: 0.9746250510215759\n",
      "Epoch 28\tTop1 Train accuracy 0.6574000120162964\tTop1 Test accuracy: 0.6365000009536743\tTop5 test acc: 0.9743750691413879\n",
      "Epoch 29\tTop1 Train accuracy 0.6601999998092651\tTop1 Test accuracy: 0.6372500061988831\tTop5 test acc: 0.9748750329017639\n",
      "Epoch 30\tTop1 Train accuracy 0.6620000004768372\tTop1 Test accuracy: 0.6383750438690186\tTop5 test acc: 0.9750000238418579\n",
      "Epoch 31\tTop1 Train accuracy 0.6631999611854553\tTop1 Test accuracy: 0.6383750438690186\tTop5 test acc: 0.9747500419616699\n",
      "Epoch 32\tTop1 Train accuracy 0.6651999950408936\tTop1 Test accuracy: 0.6395000219345093\tTop5 test acc: 0.9750000238418579\n",
      "Epoch 33\tTop1 Train accuracy 0.6663999557495117\tTop1 Test accuracy: 0.640250027179718\tTop5 test acc: 0.9752500653266907\n",
      "Epoch 34\tTop1 Train accuracy 0.6667999625205994\tTop1 Test accuracy: 0.6416250467300415\tTop5 test acc: 0.9752500653266907\n",
      "Epoch 35\tTop1 Train accuracy 0.6669999957084656\tTop1 Test accuracy: 0.6425000429153442\tTop5 test acc: 0.9751250743865967\n",
      "Epoch 36\tTop1 Train accuracy 0.6685999631881714\tTop1 Test accuracy: 0.6423750519752502\tTop5 test acc: 0.9752500653266907\n",
      "Epoch 37\tTop1 Train accuracy 0.6703999638557434\tTop1 Test accuracy: 0.643625020980835\tTop5 test acc: 0.9753750562667847\n",
      "Epoch 38\tTop1 Train accuracy 0.6715999841690063\tTop1 Test accuracy: 0.6447500586509705\tTop5 test acc: 0.9758750200271606\n",
      "Epoch 39\tTop1 Train accuracy 0.6715999841690063\tTop1 Test accuracy: 0.6452500224113464\tTop5 test acc: 0.9760000705718994\n",
      "Epoch 40\tTop1 Train accuracy 0.6728000044822693\tTop1 Test accuracy: 0.6460000276565552\tTop5 test acc: 0.9760000705718994\n",
      "Epoch 41\tTop1 Train accuracy 0.6732000112533569\tTop1 Test accuracy: 0.6467500329017639\tTop5 test acc: 0.9763750433921814\n",
      "Epoch 42\tTop1 Train accuracy 0.675000011920929\tTop1 Test accuracy: 0.6470000147819519\tTop5 test acc: 0.9763750433921814\n",
      "Epoch 43\tTop1 Train accuracy 0.6761999726295471\tTop1 Test accuracy: 0.6481250524520874\tTop5 test acc: 0.9765000343322754\n",
      "Epoch 44\tTop1 Train accuracy 0.6769999861717224\tTop1 Test accuracy: 0.6487500071525574\tTop5 test acc: 0.9765000343322754\n",
      "Epoch 45\tTop1 Train accuracy 0.6789999604225159\tTop1 Test accuracy: 0.6493750214576721\tTop5 test acc: 0.9767500758171082\n",
      "Epoch 46\tTop1 Train accuracy 0.6785999536514282\tTop1 Test accuracy: 0.6508750319480896\tTop5 test acc: 0.9767500758171082\n",
      "Epoch 47\tTop1 Train accuracy 0.6796000003814697\tTop1 Test accuracy: 0.6515000462532043\tTop5 test acc: 0.9768750667572021\n",
      "Epoch 48\tTop1 Train accuracy 0.6803999543190002\tTop1 Test accuracy: 0.6516250371932983\tTop5 test acc: 0.9768750667572021\n",
      "Epoch 49\tTop1 Train accuracy 0.6803999543190002\tTop1 Test accuracy: 0.6521250605583191\tTop5 test acc: 0.9770000576972961\n",
      "Epoch 50\tTop1 Train accuracy 0.6811999678611755\tTop1 Test accuracy: 0.6530000567436218\tTop5 test acc: 0.9772500395774841\n",
      "Epoch 51\tTop1 Train accuracy 0.6821999549865723\tTop1 Test accuracy: 0.6541250348091125\tTop5 test acc: 0.9772500395774841\n",
      "Epoch 52\tTop1 Train accuracy 0.6833999752998352\tTop1 Test accuracy: 0.6552500128746033\tTop5 test acc: 0.9773750305175781\n",
      "Epoch 53\tTop1 Train accuracy 0.6836000084877014\tTop1 Test accuracy: 0.656125009059906\tTop5 test acc: 0.9771250486373901\n",
      "Epoch 54\tTop1 Train accuracy 0.6850000023841858\tTop1 Test accuracy: 0.6566250324249268\tTop5 test acc: 0.9771250486373901\n",
      "Epoch 55\tTop1 Train accuracy 0.6859999895095825\tTop1 Test accuracy: 0.6568750143051147\tTop5 test acc: 0.9772500395774841\n",
      "Epoch 56\tTop1 Train accuracy 0.686199963092804\tTop1 Test accuracy: 0.6578750610351562\tTop5 test acc: 0.9776250720024109\n",
      "Epoch 57\tTop1 Train accuracy 0.6865999698638916\tTop1 Test accuracy: 0.6581250429153442\tTop5 test acc: 0.9777500629425049\n",
      "Epoch 58\tTop1 Train accuracy 0.6869999766349792\tTop1 Test accuracy: 0.659500002861023\tTop5 test acc: 0.9780000448226929\n",
      "Epoch 59\tTop1 Train accuracy 0.6887999773025513\tTop1 Test accuracy: 0.6603750586509705\tTop5 test acc: 0.9782500267028809\n",
      "Epoch 60\tTop1 Train accuracy 0.6891999840736389\tTop1 Test accuracy: 0.6610000133514404\tTop5 test acc: 0.9782500267028809\n",
      "Epoch 61\tTop1 Train accuracy 0.6891999840736389\tTop1 Test accuracy: 0.6613750457763672\tTop5 test acc: 0.9783750176429749\n",
      "Epoch 62\tTop1 Train accuracy 0.689799964427948\tTop1 Test accuracy: 0.6613750457763672\tTop5 test acc: 0.9783750176429749\n",
      "Epoch 63\tTop1 Train accuracy 0.6901999711990356\tTop1 Test accuracy: 0.6616250276565552\tTop5 test acc: 0.9785000681877136\n",
      "Epoch 64\tTop1 Train accuracy 0.6905999779701233\tTop1 Test accuracy: 0.6616250276565552\tTop5 test acc: 0.9785000681877136\n",
      "Epoch 65\tTop1 Train accuracy 0.6922000050544739\tTop1 Test accuracy: 0.6616250276565552\tTop5 test acc: 0.9786250591278076\n",
      "Epoch 66\tTop1 Train accuracy 0.6923999786376953\tTop1 Test accuracy: 0.6621250510215759\tTop5 test acc: 0.9787500500679016\n",
      "Epoch 67\tTop1 Train accuracy 0.6926000118255615\tTop1 Test accuracy: 0.6625000238418579\tTop5 test acc: 0.9788750410079956\n",
      "Epoch 68\tTop1 Train accuracy 0.6941999793052673\tTop1 Test accuracy: 0.6626250147819519\tTop5 test acc: 0.9790000319480896\n",
      "Epoch 69\tTop1 Train accuracy 0.6949999928474426\tTop1 Test accuracy: 0.6628750562667847\tTop5 test acc: 0.9791250228881836\n",
      "Epoch 70\tTop1 Train accuracy 0.6959999799728394\tTop1 Test accuracy: 0.6627500057220459\tTop5 test acc: 0.9791250228881836\n",
      "Epoch 71\tTop1 Train accuracy 0.6967999935150146\tTop1 Test accuracy: 0.6632500290870667\tTop5 test acc: 0.9790000319480896\n",
      "Epoch 72\tTop1 Train accuracy 0.6977999806404114\tTop1 Test accuracy: 0.6633750200271606\tTop5 test acc: 0.9791250228881836\n",
      "Epoch 73\tTop1 Train accuracy 0.698199987411499\tTop1 Test accuracy: 0.6633750200271606\tTop5 test acc: 0.9791250228881836\n",
      "Epoch 74\tTop1 Train accuracy 0.6985999941825867\tTop1 Test accuracy: 0.6640000343322754\tTop5 test acc: 0.9791250228881836\n",
      "Epoch 75\tTop1 Train accuracy 0.6987999677658081\tTop1 Test accuracy: 0.6637500524520874\tTop5 test acc: 0.9790000319480896\n",
      "Epoch 76\tTop1 Train accuracy 0.6997999548912048\tTop1 Test accuracy: 0.6638750433921814\tTop5 test acc: 0.9790000319480896\n",
      "Epoch 77\tTop1 Train accuracy 0.7001999616622925\tTop1 Test accuracy: 0.6643750071525574\tTop5 test acc: 0.9790000319480896\n",
      "Epoch 78\tTop1 Train accuracy 0.7005999684333801\tTop1 Test accuracy: 0.6646250486373901\tTop5 test acc: 0.9790000319480896\n",
      "Epoch 79\tTop1 Train accuracy 0.7015999555587769\tTop1 Test accuracy: 0.6646250486373901\tTop5 test acc: 0.9788750410079956\n",
      "Epoch 80\tTop1 Train accuracy 0.7021999955177307\tTop1 Test accuracy: 0.6652500033378601\tTop5 test acc: 0.9788750410079956\n",
      "Epoch 81\tTop1 Train accuracy 0.7019999623298645\tTop1 Test accuracy: 0.6652500033378601\tTop5 test acc: 0.9787500500679016\n",
      "Epoch 82\tTop1 Train accuracy 0.7023999691009521\tTop1 Test accuracy: 0.6656250357627869\tTop5 test acc: 0.9786250591278076\n",
      "Epoch 83\tTop1 Train accuracy 0.7027999758720398\tTop1 Test accuracy: 0.6663750410079956\tTop5 test acc: 0.9787500500679016\n",
      "Epoch 84\tTop1 Train accuracy 0.7035999894142151\tTop1 Test accuracy: 0.6667500138282776\tTop5 test acc: 0.9786250591278076\n",
      "Epoch 85\tTop1 Train accuracy 0.7039999961853027\tTop1 Test accuracy: 0.6667500138282776\tTop5 test acc: 0.9785000681877136\n",
      "Epoch 86\tTop1 Train accuracy 0.7049999833106995\tTop1 Test accuracy: 0.6673750281333923\tTop5 test acc: 0.9783750176429749\n",
      "Epoch 87\tTop1 Train accuracy 0.7057999968528748\tTop1 Test accuracy: 0.6675000190734863\tTop5 test acc: 0.9783750176429749\n",
      "Epoch 88\tTop1 Train accuracy 0.7063999772071838\tTop1 Test accuracy: 0.6677500605583191\tTop5 test acc: 0.9785000681877136\n",
      "Epoch 89\tTop1 Train accuracy 0.7071999907493591\tTop1 Test accuracy: 0.6677500605583191\tTop5 test acc: 0.9786250591278076\n",
      "Epoch 90\tTop1 Train accuracy 0.7081999778747559\tTop1 Test accuracy: 0.6681250333786011\tTop5 test acc: 0.9786250591278076\n",
      "Epoch 91\tTop1 Train accuracy 0.7087999582290649\tTop1 Test accuracy: 0.6681250333786011\tTop5 test acc: 0.9785000681877136\n",
      "Epoch 92\tTop1 Train accuracy 0.7091999650001526\tTop1 Test accuracy: 0.6682500243186951\tTop5 test acc: 0.9786250591278076\n",
      "Epoch 93\tTop1 Train accuracy 0.7098000049591064\tTop1 Test accuracy: 0.6690000295639038\tTop5 test acc: 0.9785000681877136\n",
      "Epoch 94\tTop1 Train accuracy 0.7099999785423279\tTop1 Test accuracy: 0.6693750023841858\tTop5 test acc: 0.9785000681877136\n",
      "Epoch 95\tTop1 Train accuracy 0.7111999988555908\tTop1 Test accuracy: 0.6696250438690186\tTop5 test acc: 0.9787500500679016\n",
      "Epoch 96\tTop1 Train accuracy 0.7113999724388123\tTop1 Test accuracy: 0.6695000529289246\tTop5 test acc: 0.9790000319480896\n",
      "Epoch 97\tTop1 Train accuracy 0.712399959564209\tTop1 Test accuracy: 0.6700000166893005\tTop5 test acc: 0.9790000319480896\n",
      "Epoch 98\tTop1 Train accuracy 0.7121999859809875\tTop1 Test accuracy: 0.6703750491142273\tTop5 test acc: 0.9791250228881836\n",
      "Epoch 99\tTop1 Train accuracy 0.712399959564209\tTop1 Test accuracy: 0.671125054359436\tTop5 test acc: 0.9790000319480896\n"
     ]
    }
   ],
   "source": [
    "epochs = 100\n",
    "for epoch in range(epochs):\n",
    "    model.train()\n",
    "    top1_train_accuracy = 0\n",
    "    for counter, (x_batch, y_batch) in enumerate(train_loader):\n",
    "        x_batch = x_batch.to(device)\n",
    "        y_batch = y_batch.to(device)\n",
    "\n",
    "        logits = model(x_batch)\n",
    "        loss = criterion(logits, y_batch)\n",
    "        top1 = accuracy(logits, y_batch, topk=(1,))\n",
    "        top1_train_accuracy += top1[0]\n",
    "\n",
    "        optimizer.zero_grad()\n",
    "        loss.backward()\n",
    "        optimizer.step()\n",
    "\n",
    "    top1_train_accuracy /= len(train_loader.dataset)\n",
    "\n",
    "    model.eval()\n",
    "    top1_accuracy = 0\n",
    "    top5_accuracy = 0\n",
    "    for counter, (x_batch, y_batch) in enumerate(test_loader):\n",
    "        x_batch = x_batch.to(device)\n",
    "        y_batch = y_batch.to(device)\n",
    "\n",
    "        logits = model(x_batch)\n",
    "\n",
    "        top1, top5 = accuracy(logits, y_batch, topk=(1, 5))\n",
    "        top1_accuracy += top1[0]\n",
    "        top5_accuracy += top5[0]\n",
    "\n",
    "    top1_accuracy /= len(test_loader.dataset)\n",
    "    top5_accuracy /= len(test_loader.dataset)\n",
    "    print(\n",
    "        f\"Epoch {epoch}\\tTop1 Train accuracy {top1_train_accuracy.item()}\\tTop1 Test accuracy: {top1_accuracy.item()}\\tTop5 test acc: {top5_accuracy.item()}\"\n",
    "    )"
   ]
  },
  {
   "cell_type": "markdown",
   "metadata": {},
   "source": [
    "# Save Model"
   ]
  },
  {
   "cell_type": "code",
   "execution_count": null,
   "metadata": {},
   "outputs": [],
   "source": [
    "module_path = os.path.abspath(os.path.join(\"..\"))\n",
    "if module_path not in sys.path:\n",
    "    sys.path.append(module_path)"
   ]
  },
  {
   "cell_type": "code",
   "execution_count": null,
   "metadata": {},
   "outputs": [],
   "source": [
    "from utils import save_checkpoint\n",
    "\n",
    "lr_checkpoint_name = \"lr_checkpoint_{:04d}.pth.tar\".format(epochs)\n",
    "\n",
    "save_checkpoint(\n",
    "    {\n",
    "        \"epoch\": epochs,\n",
    "        \"arch\": config.arch,\n",
    "        \"state_dict\": model.state_dict(),\n",
    "        \"optimizer\": optimizer.state_dict(),\n",
    "    },\n",
    "    is_best=False,\n",
    "    filename=os.path.join(folder_full_name, lr_checkpoint_name),\n",
    ")"
   ]
  },
  {
   "cell_type": "code",
   "execution_count": null,
   "metadata": {},
   "outputs": [],
   "source": []
  }
 ],
 "metadata": {
  "accelerator": "GPU",
  "colab": {
   "include_colab_link": true,
   "name": "Copy of mini-batch-logistic-regression-evaluator.ipynb",
   "provenance": []
  },
  "kernelspec": {
   "display_name": "Python 3.7.12 ('morphclr')",
   "language": "python",
   "name": "python3"
  },
  "language_info": {
   "codemirror_mode": {
    "name": "ipython",
    "version": 3
   },
   "file_extension": ".py",
   "mimetype": "text/x-python",
   "name": "python",
   "nbconvert_exporter": "python",
   "pygments_lexer": "ipython3",
   "version": "3.7.12"
  },
  "vscode": {
   "interpreter": {
    "hash": "5f0983b48f0f8d9f2a5bc69a737071910e2678855315ca44094d453ad6128c12"
   }
  },
  "widgets": {
   "application/vnd.jupyter.widget-state+json": {
    "149b9ce8fb68473a837a77431c12281a": {
     "model_module": "@jupyter-widgets/controls",
     "model_name": "HBoxModel",
     "state": {
      "_dom_classes": [],
      "_model_module": "@jupyter-widgets/controls",
      "_model_module_version": "1.5.0",
      "_model_name": "HBoxModel",
      "_view_count": null,
      "_view_module": "@jupyter-widgets/controls",
      "_view_module_version": "1.5.0",
      "_view_name": "HBoxView",
      "box_style": "",
      "children": [
       "IPY_MODEL_a88c31d74f5c40a2b24bcff5a35d216c",
       "IPY_MODEL_60c6150177694717a622936b830427b5"
      ],
      "layout": "IPY_MODEL_88cd3db2831e4c13a4a634709700d6b2"
     }
    },
    "5901c2829a554c8ebbd5926610088041": {
     "model_module": "@jupyter-widgets/base",
     "model_name": "LayoutModel",
     "state": {
      "_model_module": "@jupyter-widgets/base",
      "_model_module_version": "1.2.0",
      "_model_name": "LayoutModel",
      "_view_count": null,
      "_view_module": "@jupyter-widgets/base",
      "_view_module_version": "1.2.0",
      "_view_name": "LayoutView",
      "align_content": null,
      "align_items": null,
      "align_self": null,
      "border": null,
      "bottom": null,
      "display": null,
      "flex": null,
      "flex_flow": null,
      "grid_area": null,
      "grid_auto_columns": null,
      "grid_auto_flow": null,
      "grid_auto_rows": null,
      "grid_column": null,
      "grid_gap": null,
      "grid_row": null,
      "grid_template_areas": null,
      "grid_template_columns": null,
      "grid_template_rows": null,
      "height": null,
      "justify_content": null,
      "justify_items": null,
      "left": null,
      "margin": null,
      "max_height": null,
      "max_width": null,
      "min_height": null,
      "min_width": null,
      "object_fit": null,
      "object_position": null,
      "order": null,
      "overflow": null,
      "overflow_x": null,
      "overflow_y": null,
      "padding": null,
      "right": null,
      "top": null,
      "visibility": null,
      "width": null
     }
    },
    "60c6150177694717a622936b830427b5": {
     "model_module": "@jupyter-widgets/controls",
     "model_name": "HTMLModel",
     "state": {
      "_dom_classes": [],
      "_model_module": "@jupyter-widgets/controls",
      "_model_module_version": "1.5.0",
      "_model_name": "HTMLModel",
      "_view_count": null,
      "_view_module": "@jupyter-widgets/controls",
      "_view_module_version": "1.5.0",
      "_view_name": "HTMLView",
      "description": "",
      "description_tooltip": null,
      "layout": "IPY_MODEL_a4f82234388e4701a02a9f68a177193a",
      "placeholder": "​",
      "style": "IPY_MODEL_957362a11d174407979cf17012bf9208",
      "value": " 2640404480/? [00:51&lt;00:00, 32685718.58it/s]"
     }
    },
    "88cd3db2831e4c13a4a634709700d6b2": {
     "model_module": "@jupyter-widgets/base",
     "model_name": "LayoutModel",
     "state": {
      "_model_module": "@jupyter-widgets/base",
      "_model_module_version": "1.2.0",
      "_model_name": "LayoutModel",
      "_view_count": null,
      "_view_module": "@jupyter-widgets/base",
      "_view_module_version": "1.2.0",
      "_view_name": "LayoutView",
      "align_content": null,
      "align_items": null,
      "align_self": null,
      "border": null,
      "bottom": null,
      "display": null,
      "flex": null,
      "flex_flow": null,
      "grid_area": null,
      "grid_auto_columns": null,
      "grid_auto_flow": null,
      "grid_auto_rows": null,
      "grid_column": null,
      "grid_gap": null,
      "grid_row": null,
      "grid_template_areas": null,
      "grid_template_columns": null,
      "grid_template_rows": null,
      "height": null,
      "justify_content": null,
      "justify_items": null,
      "left": null,
      "margin": null,
      "max_height": null,
      "max_width": null,
      "min_height": null,
      "min_width": null,
      "object_fit": null,
      "object_position": null,
      "order": null,
      "overflow": null,
      "overflow_x": null,
      "overflow_y": null,
      "padding": null,
      "right": null,
      "top": null,
      "visibility": null,
      "width": null
     }
    },
    "957362a11d174407979cf17012bf9208": {
     "model_module": "@jupyter-widgets/controls",
     "model_name": "DescriptionStyleModel",
     "state": {
      "_model_module": "@jupyter-widgets/controls",
      "_model_module_version": "1.5.0",
      "_model_name": "DescriptionStyleModel",
      "_view_count": null,
      "_view_module": "@jupyter-widgets/base",
      "_view_module_version": "1.2.0",
      "_view_name": "StyleView",
      "description_width": ""
     }
    },
    "a4f82234388e4701a02a9f68a177193a": {
     "model_module": "@jupyter-widgets/base",
     "model_name": "LayoutModel",
     "state": {
      "_model_module": "@jupyter-widgets/base",
      "_model_module_version": "1.2.0",
      "_model_name": "LayoutModel",
      "_view_count": null,
      "_view_module": "@jupyter-widgets/base",
      "_view_module_version": "1.2.0",
      "_view_name": "LayoutView",
      "align_content": null,
      "align_items": null,
      "align_self": null,
      "border": null,
      "bottom": null,
      "display": null,
      "flex": null,
      "flex_flow": null,
      "grid_area": null,
      "grid_auto_columns": null,
      "grid_auto_flow": null,
      "grid_auto_rows": null,
      "grid_column": null,
      "grid_gap": null,
      "grid_row": null,
      "grid_template_areas": null,
      "grid_template_columns": null,
      "grid_template_rows": null,
      "height": null,
      "justify_content": null,
      "justify_items": null,
      "left": null,
      "margin": null,
      "max_height": null,
      "max_width": null,
      "min_height": null,
      "min_width": null,
      "object_fit": null,
      "object_position": null,
      "order": null,
      "overflow": null,
      "overflow_x": null,
      "overflow_y": null,
      "padding": null,
      "right": null,
      "top": null,
      "visibility": null,
      "width": null
     }
    },
    "a88c31d74f5c40a2b24bcff5a35d216c": {
     "model_module": "@jupyter-widgets/controls",
     "model_name": "FloatProgressModel",
     "state": {
      "_dom_classes": [],
      "_model_module": "@jupyter-widgets/controls",
      "_model_module_version": "1.5.0",
      "_model_name": "FloatProgressModel",
      "_view_count": null,
      "_view_module": "@jupyter-widgets/controls",
      "_view_module_version": "1.5.0",
      "_view_name": "ProgressView",
      "bar_style": "info",
      "description": "",
      "description_tooltip": null,
      "layout": "IPY_MODEL_5901c2829a554c8ebbd5926610088041",
      "max": 1,
      "min": 0,
      "orientation": "horizontal",
      "style": "IPY_MODEL_dba019efadee4fdc8c799f309b9a7e70",
      "value": 1
     }
    },
    "dba019efadee4fdc8c799f309b9a7e70": {
     "model_module": "@jupyter-widgets/controls",
     "model_name": "ProgressStyleModel",
     "state": {
      "_model_module": "@jupyter-widgets/controls",
      "_model_module_version": "1.5.0",
      "_model_name": "ProgressStyleModel",
      "_view_count": null,
      "_view_module": "@jupyter-widgets/base",
      "_view_module_version": "1.2.0",
      "_view_name": "StyleView",
      "bar_color": null,
      "description_width": "initial"
     }
    }
   }
  }
 },
 "nbformat": 4,
 "nbformat_minor": 0
}
