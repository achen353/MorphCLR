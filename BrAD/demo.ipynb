{
 "cells": [
  {
   "cell_type": "markdown",
   "id": "f65eb05c",
   "metadata": {},
   "source": [
    "# Setup\n",
    "\n",
    "Please make sure to download the DomainNet Dataset into directory <DATA_ROOT/DomainNet>\n",
    "And also download the pre-calculated features from our model from https://drive.google.com/drive/folders/1OvowfDCNCxPCAgaOi0nVDEpiB3AF2Uut?usp=sharing into <demo_features> directory"
   ]
  },
  {
   "cell_type": "code",
   "execution_count": 4,
   "id": "4ca23929",
   "metadata": {},
   "outputs": [
    {
     "name": "stdout",
     "output_type": "stream",
     "text": [
      "The autoreload extension is already loaded. To reload it, use:\n",
      "  %reload_ext autoreload\n"
     ]
    }
   ],
   "source": [
    "%load_ext autoreload\n",
    "%autoreload 2\n",
    "import os\n",
    "from utils.jupyter import demo\n",
    "\n",
    "data_root = '<DATA_ROOT>/DomainNet' #TODO: change the paths to the local path of the DomainNet Dataset\n",
    "feat_dir = '<demo_features>' #TODO: change the paths to the pre-calculated features\n",
    "\n",
    "search_domains = {'real': os.path.join(feat_dir, f'src_real.pkl'),\n",
    "               'painting': os.path.join(feat_dir, f'src_painting.pkl'),\n",
    "               'clipart': os.path.join(feat_dir, f'src_clipart.pkl'),\n",
    "               'sketch': os.path.join(feat_dir, f'src_sketch.pkl')}\n",
    "query_domains = {'real': os.path.join(feat_dir, f'dst_real.pkl'),\n",
    "               'painting': os.path.join(feat_dir, f'dst_painting.pkl'),\n",
    "               'clipart': os.path.join(feat_dir, f'dst_clipart.pkl'),\n",
    "               'sketch': os.path.join(feat_dir, f'dst_sketch.pkl')}\n",
    "\n"
   ]
  },
  {
   "cell_type": "markdown",
   "id": "f5e3b351",
   "metadata": {},
   "source": [
    "# Demo\n"
   ]
  },
  {
   "cell_type": "code",
   "execution_count": 5,
   "id": "5d7f0509",
   "metadata": {
    "pycharm": {
     "name": "#%%\n"
    }
   },
   "outputs": [
    {
     "data": {
      "application/vnd.jupyter.widget-view+json": {
       "model_id": "e05f8206b95a4c4cae8cdb9ec5ad8d57",
       "version_major": 2,
       "version_minor": 0
      },
      "text/plain": [
       "interactive(children=(Dropdown(description='query_domain', options=('real', 'painting', 'clipart', 'sketch'), …"
      ]
     },
     "metadata": {},
     "output_type": "display_data"
    },
    {
     "data": {
      "text/plain": [
       "<function utils.jupyter.demo.<locals>.show_res(query_domain, search_domain, num_results_per_domain=5)>"
      ]
     },
     "metadata": {},
     "output_type": "display_data"
    }
   ],
   "source": [
    "demo(query_domains, search_domains, data_root)"
   ]
  },
  {
   "cell_type": "code",
   "execution_count": null,
   "id": "c360816a",
   "metadata": {},
   "outputs": [],
   "source": []
  }
 ],
 "metadata": {
  "kernelspec": {
   "display_name": "Python 3",
   "language": "python",
   "name": "python3"
  },
  "language_info": {
   "codemirror_mode": {
    "name": "ipython",
    "version": 3
   },
   "file_extension": ".py",
   "mimetype": "text/x-python",
   "name": "python",
   "nbconvert_exporter": "python",
   "pygments_lexer": "ipython3",
   "version": "3.8.12"
  }
 },
 "nbformat": 4,
 "nbformat_minor": 5
}